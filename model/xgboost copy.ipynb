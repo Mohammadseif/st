{
 "metadata": {
  "language_info": {
   "codemirror_mode": {
    "name": "ipython",
    "version": 3
   },
   "file_extension": ".py",
   "mimetype": "text/x-python",
   "name": "python",
   "nbconvert_exporter": "python",
   "pygments_lexer": "ipython3",
   "version": "3.8.1-final"
  },
  "orig_nbformat": 2,
  "kernelspec": {
   "name": "python3",
   "display_name": "Python 3.8.1 64-bit",
   "metadata": {
    "interpreter": {
     "hash": "47a85a629801ef262824578c45d90e469bd105ce4a294bee51dbde8a28a2fe38"
    }
   }
  }
 },
 "nbformat": 4,
 "nbformat_minor": 2,
 "cells": [
  {
   "cell_type": "code",
   "execution_count": 8,
   "metadata": {},
   "outputs": [],
   "source": [
    "import pandas as pd \n",
    "import numpy as np \n",
    "import xlrd\n",
    "import missingno as msg \n",
    "import matplotlib.pyplot as plt \n",
    "import seaborn as sns\n",
    "from scipy import stats\n",
    "\n",
    "import os\n",
    "from sklearn.model_selection import train_test_split , cross_val_score , RandomizedSearchCV\n",
    "from sklearn.preprocessing import StandardScaler ,MinMaxScaler ,LabelEncoder\n",
    "from sklearn.metrics import accuracy_score,recall_score,precision_score,precision_recall_curve\n",
    "from xgboost import XGBClassifier,plot_tree,plot_importance,XGBRegressor\n",
    "from sklearn.ensemble import RandomForestClassifier\n",
    "\n",
    "#from lightgbm import LGBMClassifier\n",
    "#from catboost import CatBoostClassifier\n",
    "\n",
    "from hyperopt import hp, tpe, Trials, STATUS_OK\n",
    "from hyperopt import fmin\n",
    "from sklearn.metrics import roc_auc_score, recall_score, precision_score, classification_report"
   ]
  },
  {
   "cell_type": "code",
   "execution_count": 11,
   "metadata": {},
   "outputs": [
    {
     "output_type": "execute_result",
     "data": {
      "text/plain": [
       "'name.jpg'"
      ]
     },
     "metadata": {},
     "execution_count": 11
    }
   ],
   "source": [
    "a = 'name'\n",
    "b = '.jpg'\n",
    "a+b\n",
    " a = pic.name\n",
    "                    b = '.jpg'\n",
    "                    os.rename(pic.name,BBN+b)"
   ]
  },
  {
   "cell_type": "code",
   "execution_count": 9,
   "metadata": {},
   "outputs": [
    {
     "output_type": "stream",
     "name": "stdout",
     "text": [
      "st.radio( 1 :,( 8.5, 10.5, 6.5, 7.5))\nst.radio( 2 :,( 8.5, 10.5, 6.5, 7.5))\nst.radio( 3 :,( 8.5, 10.5, 6.5, 7.5))\nst.radio( 4 :,( 8.5, 10.5, 6.5, 7.5))\nst.radio( 5 :,( 8.5, 10.5, 6.5, 7.5))\nst.radio( 6 :,( 8.5, 10.5, 6.5, 7.5))\nst.radio( 7 :,( 8.5, 10.5, 6.5, 7.5))\nst.radio( 8 :,( 8.5, 10.5, 6.5, 7.5))\nst.radio( 9 :,( 8.5, 10.5, 6.5, 7.5))\nst.radio( 10 :,( 8.5, 10.5, 6.5, 7.5))\nst.radio( 11 :,( 8.5, 10.5, 6.5, 7.5))\nst.radio( 12 :,( 8.5, 10.5, 6.5, 7.5))\nst.radio( 13 :,( 8.5, 10.5, 6.5, 7.5))\nst.radio( 14 :,( 8.5, 10.5, 6.5, 7.5))\nst.radio( 15 :,( 8.5, 10.5, 6.5, 7.5))\nst.radio( 16 :,( 8.5, 10.5, 6.5, 7.5))\nst.radio( 17 :,( 8.5, 10.5, 6.5, 7.5))\nst.radio( 18 :,( 8.5, 10.5, 6.5, 7.5))\nst.radio( 19 :,( 8.5, 10.5, 6.5, 7.5))\n"
     ]
    }
   ],
   "source": [
    "#print('HD=st.radio('Hole Diameter:',( 8.5, 10.5, 6.5, 7.5))')\n",
    "for i in range(1,20):\n",
    "    print('st.radio(',i,':,( 8.5, 10.5, 6.5, 7.5))')\n"
   ]
  },
  {
   "cell_type": "code",
   "execution_count": null,
   "metadata": {},
   "outputs": [],
   "source": []
  }
 ]
}