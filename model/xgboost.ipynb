{
 "metadata": {
  "language_info": {
   "codemirror_mode": {
    "name": "ipython",
    "version": 3
   },
   "file_extension": ".py",
   "mimetype": "text/x-python",
   "name": "python",
   "nbconvert_exporter": "python",
   "pygments_lexer": "ipython3",
   "version": "3.8.1-final"
  },
  "orig_nbformat": 2,
  "kernelspec": {
   "name": "python3",
   "display_name": "Python 3.8.1 64-bit",
   "metadata": {
    "interpreter": {
     "hash": "47a85a629801ef262824578c45d90e469bd105ce4a294bee51dbde8a28a2fe38"
    }
   }
  }
 },
 "nbformat": 4,
 "nbformat_minor": 2,
 "cells": [
  {
   "cell_type": "code",
   "execution_count": 8,
   "metadata": {},
   "outputs": [],
   "source": [
    "import pandas as pd \n",
    "import numpy as np \n",
    "import xlrd\n",
    "import missingno as msg \n",
    "import matplotlib.pyplot as plt \n",
    "import seaborn as sns\n",
    "from scipy import stats\n",
    "\n",
    "import os\n",
    "from sklearn.model_selection import train_test_split , cross_val_score , RandomizedSearchCV\n",
    "from sklearn.preprocessing import StandardScaler ,MinMaxScaler ,LabelEncoder\n",
    "from sklearn.metrics import accuracy_score,recall_score,precision_score,precision_recall_curve\n",
    "from xgboost import XGBClassifier,plot_tree,plot_importance,XGBRegressor\n",
    "from sklearn.ensemble import RandomForestClassifier\n",
    "\n",
    "#from lightgbm import LGBMClassifier\n",
    "#from catboost import CatBoostClassifier\n",
    "\n",
    "from hyperopt import hp, tpe, Trials, STATUS_OK\n",
    "from hyperopt import fmin\n",
    "from sklearn.metrics import roc_auc_score, recall_score, precision_score, classification_report"
   ]
  },
  {
   "cell_type": "code",
   "execution_count": 9,
   "metadata": {},
   "outputs": [],
   "source": [
    "df = pd.read_excel('data2.xlsx')\n"
   ]
  },
  {
   "cell_type": "code",
   "execution_count": 10,
   "metadata": {},
   "outputs": [],
   "source": [
    "df1 = df.loc[df['v7'] == 'magnetit']"
   ]
  },
  {
   "cell_type": "code",
   "execution_count": 11,
   "metadata": {},
   "outputs": [
    {
     "output_type": "execute_result",
     "data": {
      "text/plain": [
       "array([0.82360196, 0.85727614, 0.8442471 , 0.7799406 , 0.75940895,\n",
       "       0.80876386, 0.77037376, 0.84499973, 0.803441  , 0.86390233,\n",
       "       0.6625469 , 0.8600778 , 0.77422357, 0.87559325, 0.8929043 ,\n",
       "       0.8630585 , 0.7766696 , 0.8107241 ], dtype=float32)"
      ]
     },
     "metadata": {},
     "execution_count": 11
    }
   ],
   "source": [
    "xgb_data = df1.copy()\n",
    "\n",
    "y_df = xgb_data['FE'].reset_index(drop=True)\n",
    "x_df = xgb_data[['LF', 'LM', 'WM', 'WL', 'RLW']]\n",
    "\n",
    "train_x, test_x, train_y, test_y = train_test_split(x_df, y_df, test_size=0.20,random_state = 42)\n",
    "model = XGBRegressor()\n",
    "model.fit(train_x, train_y)   \n",
    "predictions = model.predict(test_x)\n",
    "predictions"
   ]
  },
  {
   "cell_type": "code",
   "execution_count": 12,
   "metadata": {},
   "outputs": [
    {
     "output_type": "execute_result",
     "data": {
      "text/plain": [
       "['xgboost.pkl']"
      ]
     },
     "metadata": {},
     "execution_count": 12
    }
   ],
   "source": [
    "import pickle\n",
    "from sklearn.externals import joblib\n",
    "filename = 'xgboost.pkl' \n",
    "joblib.dump(model,filename)"
   ]
  },
  {
   "cell_type": "code",
   "execution_count": 13,
   "metadata": {},
   "outputs": [
    {
     "output_type": "execute_result",
     "data": {
      "text/plain": [
       "array([[0.53571429, 0.86413043, 0.5       , 0.42622951, 0.38970588],\n",
       "       [0.35714286, 0.82065217, 0.74193548, 0.47540984, 0.30698529],\n",
       "       [0.48214286, 0.85326087, 0.64516129, 0.96721311, 0.21323529],\n",
       "       [0.375     , 0.80978261, 0.        , 0.        , 0.53308824],\n",
       "       [1.        , 1.        , 0.19354839, 0.31147541, 0.78492647],\n",
       "       [0.46428571, 0.83695652, 0.88709677, 0.90163934, 0.        ],\n",
       "       [0.        , 0.71195652, 1.        , 0.7704918 , 1.        ],\n",
       "       [0.53571429, 0.8423913 , 0.09677419, 0.04918033, 0.79044118],\n",
       "       [0.42857143, 0.82065217, 0.        , 0.        , 0.64338235],\n",
       "       [0.5       , 0.83152174, 0.41935484, 0.40983607, 0.49632353],\n",
       "       [0.80357143, 0.        , 0.        , 0.01639344, 0.95588235],\n",
       "       [0.5       , 0.86413043, 0.35483871, 0.03278689, 0.68933824],\n",
       "       [0.66071429, 0.89130435, 0.38709677, 0.39344262, 0.30330882],\n",
       "       [0.72321429, 0.92119565, 0.62903226, 1.        , 0.29044118],\n",
       "       [0.80357143, 0.92119565, 0.58064516, 0.78688525, 0.36397059],\n",
       "       [0.48214286, 0.84782609, 0.48387097, 0.52459016, 0.3125    ],\n",
       "       [0.66964286, 0.90217391, 0.5       , 0.47540984, 0.48161765],\n",
       "       [0.10178571, 0.71032609, 0.19354839, 0.3442623 , 0.42830882]])"
      ]
     },
     "metadata": {},
     "execution_count": 13
    }
   ],
   "source": [
    "sc = MinMaxScaler()\n",
    "x_testscles = sc.fit_transform(test_x)\n",
    "x_testscles"
   ]
  },
  {
   "cell_type": "code",
   "execution_count": 14,
   "metadata": {},
   "outputs": [],
   "source": [
    "#mdl = joblib.load('xgboost.pkl')\n",
    "#Y_pred = mdl.predict(test_x)\n",
    "#Y_pred"
   ]
  },
  {
   "cell_type": "code",
   "execution_count": null,
   "metadata": {},
   "outputs": [],
   "source": []
  }
 ]
}